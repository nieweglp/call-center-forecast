{
 "cells": [
  {
   "cell_type": "code",
   "execution_count": 25,
   "id": "17dfb667-879e-490b-be91-4588d77795e4",
   "metadata": {
    "scrolled": true
   },
   "outputs": [],
   "source": [
    "from kedro.io import DataCatalog\n",
    "from kedro_datasets.pandas import ParquetDataset\n",
    "import pandas as pd\n",
    "\n",
    "catalog =  DataCatalog(\n",
    "    {\n",
    "        \"assistance_train_dataset_1\": ParquetDataset(filepath=\"data/01_raw/assistance_train_dataset_1.parquet\"),\n",
    "        \"assistance_train_dataset_2\": ParquetDataset(filepath=\"data/01_raw/assistance_train_dataset_2.parquet\"),\n",
    "        \"assistance_train_dataset_3\": ParquetDataset(filepath=\"data/01_raw/assistance_train_dataset_3.parquet\"),\n",
    "    }\n",
    ")"
   ]
  },
  {
   "cell_type": "code",
   "execution_count": 20,
   "id": "8703c05c-f503-4865-a5e0-f79777a1681f",
   "metadata": {},
   "outputs": [
    {
     "data": {
      "text/html": [
       "<pre style=\"white-space:pre;overflow-x:auto;line-height:normal;font-family:Menlo,'DejaVu Sans Mono',consolas,'Courier New',monospace\"><span style=\"color: #7fbfbf; text-decoration-color: #7fbfbf\">[12/13/24 01:31:58] </span><span style=\"color: #000080; text-decoration-color: #000080\">INFO    </span> Loading data from <span style=\"color: #ff8700; text-decoration-color: #ff8700\">assistance_train_dataset_1</span> <span style=\"font-weight: bold\">(</span>ParquetDataset<span style=\"font-weight: bold\">)</span><span style=\"color: #808000; text-decoration-color: #808000\">...</span>   <a href=\"file:///projects/pytech-falck-competition/venv/lib/python3.12/site-packages/kedro/io/data_catalog.py\" target=\"_blank\"><span style=\"color: #7f7f7f; text-decoration-color: #7f7f7f\">data_catalog.py</span></a><span style=\"color: #7f7f7f; text-decoration-color: #7f7f7f\">:</span><a href=\"file:///projects/pytech-falck-competition/venv/lib/python3.12/site-packages/kedro/io/data_catalog.py#389\" target=\"_blank\"><span style=\"color: #7f7f7f; text-decoration-color: #7f7f7f\">389</span></a>\n",
       "</pre>\n"
      ],
      "text/plain": [
       "\u001b[2;36m[12/13/24 01:31:58]\u001b[0m\u001b[2;36m \u001b[0m\u001b[34mINFO    \u001b[0m Loading data from \u001b[38;5;208massistance_train_dataset_1\u001b[0m \u001b[1m(\u001b[0mParquetDataset\u001b[1m)\u001b[0m\u001b[33m...\u001b[0m   \u001b]8;id=229795;file:///projects/pytech-falck-competition/venv/lib/python3.12/site-packages/kedro/io/data_catalog.py\u001b\\\u001b[2mdata_catalog.py\u001b[0m\u001b]8;;\u001b\\\u001b[2m:\u001b[0m\u001b]8;id=315223;file:///projects/pytech-falck-competition/venv/lib/python3.12/site-packages/kedro/io/data_catalog.py#389\u001b\\\u001b[2m389\u001b[0m\u001b]8;;\u001b\\\n"
      ]
     },
     "metadata": {},
     "output_type": "display_data"
    },
    {
     "data": {
      "text/html": [
       "<pre style=\"white-space:pre;overflow-x:auto;line-height:normal;font-family:Menlo,'DejaVu Sans Mono',consolas,'Courier New',monospace\"><span style=\"color: #7fbfbf; text-decoration-color: #7fbfbf\">[12/13/24 01:31:59] </span><span style=\"color: #000080; text-decoration-color: #000080\">INFO    </span> Loading data from <span style=\"color: #ff8700; text-decoration-color: #ff8700\">assistance_train_dataset_2</span> <span style=\"font-weight: bold\">(</span>ParquetDataset<span style=\"font-weight: bold\">)</span><span style=\"color: #808000; text-decoration-color: #808000\">...</span>   <a href=\"file:///projects/pytech-falck-competition/venv/lib/python3.12/site-packages/kedro/io/data_catalog.py\" target=\"_blank\"><span style=\"color: #7f7f7f; text-decoration-color: #7f7f7f\">data_catalog.py</span></a><span style=\"color: #7f7f7f; text-decoration-color: #7f7f7f\">:</span><a href=\"file:///projects/pytech-falck-competition/venv/lib/python3.12/site-packages/kedro/io/data_catalog.py#389\" target=\"_blank\"><span style=\"color: #7f7f7f; text-decoration-color: #7f7f7f\">389</span></a>\n",
       "</pre>\n"
      ],
      "text/plain": [
       "\u001b[2;36m[12/13/24 01:31:59]\u001b[0m\u001b[2;36m \u001b[0m\u001b[34mINFO    \u001b[0m Loading data from \u001b[38;5;208massistance_train_dataset_2\u001b[0m \u001b[1m(\u001b[0mParquetDataset\u001b[1m)\u001b[0m\u001b[33m...\u001b[0m   \u001b]8;id=236218;file:///projects/pytech-falck-competition/venv/lib/python3.12/site-packages/kedro/io/data_catalog.py\u001b\\\u001b[2mdata_catalog.py\u001b[0m\u001b]8;;\u001b\\\u001b[2m:\u001b[0m\u001b]8;id=461419;file:///projects/pytech-falck-competition/venv/lib/python3.12/site-packages/kedro/io/data_catalog.py#389\u001b\\\u001b[2m389\u001b[0m\u001b]8;;\u001b\\\n"
      ]
     },
     "metadata": {},
     "output_type": "display_data"
    },
    {
     "data": {
      "text/html": [
       "<pre style=\"white-space:pre;overflow-x:auto;line-height:normal;font-family:Menlo,'DejaVu Sans Mono',consolas,'Courier New',monospace\"><span style=\"color: #7fbfbf; text-decoration-color: #7fbfbf\">[12/13/24 01:32:00] </span><span style=\"color: #000080; text-decoration-color: #000080\">INFO    </span> Loading data from <span style=\"color: #ff8700; text-decoration-color: #ff8700\">assistance_train_dataset_3</span> <span style=\"font-weight: bold\">(</span>ParquetDataset<span style=\"font-weight: bold\">)</span><span style=\"color: #808000; text-decoration-color: #808000\">...</span>   <a href=\"file:///projects/pytech-falck-competition/venv/lib/python3.12/site-packages/kedro/io/data_catalog.py\" target=\"_blank\"><span style=\"color: #7f7f7f; text-decoration-color: #7f7f7f\">data_catalog.py</span></a><span style=\"color: #7f7f7f; text-decoration-color: #7f7f7f\">:</span><a href=\"file:///projects/pytech-falck-competition/venv/lib/python3.12/site-packages/kedro/io/data_catalog.py#389\" target=\"_blank\"><span style=\"color: #7f7f7f; text-decoration-color: #7f7f7f\">389</span></a>\n",
       "</pre>\n"
      ],
      "text/plain": [
       "\u001b[2;36m[12/13/24 01:32:00]\u001b[0m\u001b[2;36m \u001b[0m\u001b[34mINFO    \u001b[0m Loading data from \u001b[38;5;208massistance_train_dataset_3\u001b[0m \u001b[1m(\u001b[0mParquetDataset\u001b[1m)\u001b[0m\u001b[33m...\u001b[0m   \u001b]8;id=135082;file:///projects/pytech-falck-competition/venv/lib/python3.12/site-packages/kedro/io/data_catalog.py\u001b\\\u001b[2mdata_catalog.py\u001b[0m\u001b]8;;\u001b\\\u001b[2m:\u001b[0m\u001b]8;id=977163;file:///projects/pytech-falck-competition/venv/lib/python3.12/site-packages/kedro/io/data_catalog.py#389\u001b\\\u001b[2m389\u001b[0m\u001b]8;;\u001b\\\n"
      ]
     },
     "metadata": {},
     "output_type": "display_data"
    }
   ],
   "source": [
    "assistance_train_dataset_1 = catalog.load(\"assistance_train_dataset_1\")\n",
    "assistance_train_dataset_2 = catalog.load(\"assistance_train_dataset_2\")\n",
    "assistance_train_dataset_3 = catalog.load(\"assistance_train_dataset_3\")"
   ]
  },
  {
   "cell_type": "code",
   "execution_count": 21,
   "id": "9a7cfe8c-8383-40eb-9777-bed57ee8db3d",
   "metadata": {},
   "outputs": [
    {
     "data": {
      "text/html": [
       "<pre style=\"white-space:pre;overflow-x:auto;line-height:normal;font-family:Menlo,'DejaVu Sans Mono',consolas,'Courier New',monospace\"></pre>\n"
      ],
      "text/plain": []
     },
     "metadata": {},
     "output_type": "display_data"
    },
    {
     "data": {
      "text/html": [
       "<div>\n",
       "<style scoped>\n",
       "    .dataframe tbody tr th:only-of-type {\n",
       "        vertical-align: middle;\n",
       "    }\n",
       "\n",
       "    .dataframe tbody tr th {\n",
       "        vertical-align: top;\n",
       "    }\n",
       "\n",
       "    .dataframe thead th {\n",
       "        text-align: right;\n",
       "    }\n",
       "</style>\n",
       "<table border=\"1\" class=\"dataframe\">\n",
       "  <thead>\n",
       "    <tr style=\"text-align: right;\">\n",
       "      <th></th>\n",
       "      <th>EmitDate</th>\n",
       "      <th>EmitEndDate</th>\n",
       "      <th>AgentId</th>\n",
       "      <th>CallId</th>\n",
       "      <th>CallType</th>\n",
       "      <th>CallDirection</th>\n",
       "      <th>QueueName</th>\n",
       "    </tr>\n",
       "  </thead>\n",
       "  <tbody>\n",
       "    <tr>\n",
       "      <th>0</th>\n",
       "      <td>2022-10-17 22:42:45.402895</td>\n",
       "      <td>2022-10-17 22:43:23.068921</td>\n",
       "      <td>5d5d6d09-8db0-4de8-8566-217e8c051f1f</td>\n",
       "      <td>sdv-pii-ou5qk</td>\n",
       "      <td>agent</td>\n",
       "      <td>outbound</td>\n",
       "      <td>1bad6b8cf97131fceab8543e81f7757195fbb1d36b376e...</td>\n",
       "    </tr>\n",
       "    <tr>\n",
       "      <th>1</th>\n",
       "      <td>2022-10-17 09:26:54.496597</td>\n",
       "      <td>2022-10-17 09:28:40.030373</td>\n",
       "      <td>4af305c9-28b2-4e57-bb39-c1d65237b1f9</td>\n",
       "      <td>sdv-pii-w7g3n</td>\n",
       "      <td>agent</td>\n",
       "      <td>inbound</td>\n",
       "      <td>bd51723189625f90588e977b9fb05fdf12b1b81d668f64...</td>\n",
       "    </tr>\n",
       "    <tr>\n",
       "      <th>2</th>\n",
       "      <td>2022-10-17 16:39:17.991224</td>\n",
       "      <td>2022-10-17 16:40:01.372890</td>\n",
       "      <td>08ee38dc-7073-4d19-bcc2-81521a959d86</td>\n",
       "      <td>sdv-pii-k50zl</td>\n",
       "      <td>agent</td>\n",
       "      <td>inbound</td>\n",
       "      <td>880c14638d515f61e00c6ddef2234db8beb8287722cb7e...</td>\n",
       "    </tr>\n",
       "    <tr>\n",
       "      <th>3</th>\n",
       "      <td>2022-10-17 05:52:42.032933</td>\n",
       "      <td>2022-10-17 05:52:50.419619</td>\n",
       "      <td>316e461d-7dad-4b9d-a045-50e6a9986b0e</td>\n",
       "      <td>sdv-pii-k9z02</td>\n",
       "      <td>agent</td>\n",
       "      <td>inbound</td>\n",
       "      <td>f1bc70f26a24de569b9c9b32c38e45f2144e4326a047aa...</td>\n",
       "    </tr>\n",
       "    <tr>\n",
       "      <th>4</th>\n",
       "      <td>2022-10-17 03:03:40.880062</td>\n",
       "      <td>2022-10-17 03:04:22.863554</td>\n",
       "      <td>f23913a4-badc-4360-98e6-20dc6620b9e8</td>\n",
       "      <td>sdv-pii-qvh6y</td>\n",
       "      <td>agent</td>\n",
       "      <td>inbound</td>\n",
       "      <td>f1bc70f26a24de569b9c9b32c38e45f2144e4326a047aa...</td>\n",
       "    </tr>\n",
       "  </tbody>\n",
       "</table>\n",
       "</div>"
      ],
      "text/plain": [
       "\n",
       "                    EmitDate                EmitEndDate  \\\n",
       "\u001b[1;36m0\u001b[0m \u001b[1;36m2022\u001b[0m-\u001b[1;36m10\u001b[0m-\u001b[1;36m17\u001b[0m \u001b[1;92m22:42:45\u001b[0m.\u001b[1;36m402895\u001b[0m \u001b[1;36m2022\u001b[0m-\u001b[1;36m10\u001b[0m-\u001b[1;36m17\u001b[0m \u001b[1;92m22:43:23\u001b[0m.\u001b[1;36m068921\u001b[0m   \n",
       "\u001b[1;36m1\u001b[0m \u001b[1;36m2022\u001b[0m-\u001b[1;36m10\u001b[0m-\u001b[1;36m17\u001b[0m \u001b[1;92m09:26:54\u001b[0m.\u001b[1;36m496597\u001b[0m \u001b[1;36m2022\u001b[0m-\u001b[1;36m10\u001b[0m-\u001b[1;36m17\u001b[0m \u001b[1;92m09:28:40\u001b[0m.\u001b[1;36m030373\u001b[0m   \n",
       "\u001b[1;36m2\u001b[0m \u001b[1;36m2022\u001b[0m-\u001b[1;36m10\u001b[0m-\u001b[1;36m17\u001b[0m \u001b[1;92m16:39:17\u001b[0m.\u001b[1;36m991224\u001b[0m \u001b[1;36m2022\u001b[0m-\u001b[1;36m10\u001b[0m-\u001b[1;36m17\u001b[0m \u001b[1;92m16:40:01\u001b[0m.\u001b[1;36m372890\u001b[0m   \n",
       "\u001b[1;36m3\u001b[0m \u001b[1;36m2022\u001b[0m-\u001b[1;36m10\u001b[0m-\u001b[1;36m17\u001b[0m \u001b[1;92m05:52:42\u001b[0m.\u001b[1;36m032933\u001b[0m \u001b[1;36m2022\u001b[0m-\u001b[1;36m10\u001b[0m-\u001b[1;36m17\u001b[0m \u001b[1;92m05:52:50\u001b[0m.\u001b[1;36m419619\u001b[0m   \n",
       "\u001b[1;36m4\u001b[0m \u001b[1;36m2022\u001b[0m-\u001b[1;36m10\u001b[0m-\u001b[1;36m17\u001b[0m \u001b[1;92m03:03:40\u001b[0m.\u001b[1;36m880062\u001b[0m \u001b[1;36m2022\u001b[0m-\u001b[1;36m10\u001b[0m-\u001b[1;36m17\u001b[0m \u001b[1;92m03:04:22\u001b[0m.\u001b[1;36m863554\u001b[0m   \n",
       "\n",
       "                                AgentId         CallId CallType CallDirection  \\\n",
       "\u001b[1;36m0\u001b[0m  \u001b[93m5d5d6d09-8db0-4de8-8566-217e8c051f1f\u001b[0m  sdv-pii-ou5qk    agent      outbound   \n",
       "\u001b[1;36m1\u001b[0m  \u001b[93m4af305c9-28b2-4e57-bb39-c1d65237b1f9\u001b[0m  sdv-pii-w7g3n    agent       inbound   \n",
       "\u001b[1;36m2\u001b[0m  \u001b[93m08ee38dc-7073-4d19-bcc2-81521a959d86\u001b[0m  sdv-pii-k50zl    agent       inbound   \n",
       "\u001b[1;36m3\u001b[0m  \u001b[93m316e461d-7dad-4b9d-a045-50e6a9986b0e\u001b[0m  sdv-pii-k9z02    agent       inbound   \n",
       "\u001b[1;36m4\u001b[0m  \u001b[93mf23913a4-badc-4360-98e6-20dc6620b9e8\u001b[0m  sdv-pii-qvh6y    agent       inbound   \n",
       "\n",
       "                                           QueueName  \n",
       "\u001b[1;36m0\u001b[0m  1bad6b8cf97131fceab8543e81f7757195fbb1d36b376e\u001b[33m...\u001b[0m  \n",
       "\u001b[1;36m1\u001b[0m  bd51723189625f90588e977b9fb05fdf12b1b81d668f64\u001b[33m...\u001b[0m  \n",
       "\u001b[1;36m2\u001b[0m  880c14638d515f61e00c6ddef2234db8beb8287722cb7e\u001b[33m...\u001b[0m  \n",
       "\u001b[1;36m3\u001b[0m  f1bc70f26a24de569b9c9b32c38e45f2144e4326a047aa\u001b[33m...\u001b[0m  \n",
       "\u001b[1;36m4\u001b[0m  f1bc70f26a24de569b9c9b32c38e45f2144e4326a047aa\u001b[33m...\u001b[0m  "
      ]
     },
     "execution_count": 21,
     "metadata": {},
     "output_type": "execute_result"
    }
   ],
   "source": [
    "assistance_train_dataset_1.head()"
   ]
  },
  {
   "cell_type": "code",
   "execution_count": 22,
   "id": "83e71b17-8262-4515-9a01-6de3cffbca33",
   "metadata": {},
   "outputs": [
    {
     "data": {
      "text/html": [
       "<pre style=\"white-space:pre;overflow-x:auto;line-height:normal;font-family:Menlo,'DejaVu Sans Mono',consolas,'Courier New',monospace\"></pre>\n"
      ],
      "text/plain": []
     },
     "metadata": {},
     "output_type": "display_data"
    },
    {
     "data": {
      "text/html": [
       "<div>\n",
       "<style scoped>\n",
       "    .dataframe tbody tr th:only-of-type {\n",
       "        vertical-align: middle;\n",
       "    }\n",
       "\n",
       "    .dataframe tbody tr th {\n",
       "        vertical-align: top;\n",
       "    }\n",
       "\n",
       "    .dataframe thead th {\n",
       "        text-align: right;\n",
       "    }\n",
       "</style>\n",
       "<table border=\"1\" class=\"dataframe\">\n",
       "  <thead>\n",
       "    <tr style=\"text-align: right;\">\n",
       "      <th></th>\n",
       "      <th>EmitDate</th>\n",
       "      <th>EmitEndDate</th>\n",
       "      <th>AgentId</th>\n",
       "      <th>CallId</th>\n",
       "      <th>CallType</th>\n",
       "      <th>CallDirection</th>\n",
       "      <th>QueueName</th>\n",
       "    </tr>\n",
       "  </thead>\n",
       "  <tbody>\n",
       "    <tr>\n",
       "      <th>0</th>\n",
       "      <td>2022-12-28 14:15:26.431026</td>\n",
       "      <td>2022-12-28 14:17:39.494603</td>\n",
       "      <td>5d5d6d09-8db0-4de8-8566-217e8c051f1f</td>\n",
       "      <td>sdv-pii-fuuqs</td>\n",
       "      <td>agent</td>\n",
       "      <td>inbound</td>\n",
       "      <td>f1bc70f26a24de569b9c9b32c38e45f2144e4326a047aa...</td>\n",
       "    </tr>\n",
       "    <tr>\n",
       "      <th>1</th>\n",
       "      <td>2022-12-28 09:59:39.464488</td>\n",
       "      <td>2022-12-28 10:00:52.750547</td>\n",
       "      <td>60fb1f33-609f-49a6-b53a-3fc95a119e10</td>\n",
       "      <td>sdv-pii-seo6u</td>\n",
       "      <td>agent</td>\n",
       "      <td>inbound</td>\n",
       "      <td>1bad6b8cf97131fceab8543e81f7757195fbb1d36b376e...</td>\n",
       "    </tr>\n",
       "    <tr>\n",
       "      <th>2</th>\n",
       "      <td>2022-12-28 09:50:01.664353</td>\n",
       "      <td>2022-12-28 09:50:09.535134</td>\n",
       "      <td>837e6b57-1de9-4f48-ae24-649a79c87033</td>\n",
       "      <td>sdv-pii-eco6s</td>\n",
       "      <td>agent</td>\n",
       "      <td>inbound</td>\n",
       "      <td>880c14638d515f61e00c6ddef2234db8beb8287722cb7e...</td>\n",
       "    </tr>\n",
       "    <tr>\n",
       "      <th>3</th>\n",
       "      <td>2022-12-28 00:23:22.057765</td>\n",
       "      <td>2022-12-28 00:26:36.682361</td>\n",
       "      <td>5be51088-ef6a-4afa-bbd6-3dda28d0ddf6</td>\n",
       "      <td>sdv-pii-8m3aj</td>\n",
       "      <td>agent</td>\n",
       "      <td>inbound</td>\n",
       "      <td>c17033805438f07b2509ffbf5e8f35e24f8aafff5bee2c...</td>\n",
       "    </tr>\n",
       "    <tr>\n",
       "      <th>4</th>\n",
       "      <td>2022-12-28 18:41:13.998318</td>\n",
       "      <td>2022-12-28 18:42:26.189956</td>\n",
       "      <td>415aea5e-d6e2-43ee-bf49-09e787a19212</td>\n",
       "      <td>sdv-pii-xn3y3</td>\n",
       "      <td>user</td>\n",
       "      <td>inbound</td>\n",
       "      <td>880c14638d515f61e00c6ddef2234db8beb8287722cb7e...</td>\n",
       "    </tr>\n",
       "  </tbody>\n",
       "</table>\n",
       "</div>"
      ],
      "text/plain": [
       "\n",
       "                    EmitDate                EmitEndDate  \\\n",
       "\u001b[1;36m0\u001b[0m \u001b[1;36m2022\u001b[0m-\u001b[1;36m12\u001b[0m-\u001b[1;36m28\u001b[0m \u001b[1;92m14:15:26\u001b[0m.\u001b[1;36m431026\u001b[0m \u001b[1;36m2022\u001b[0m-\u001b[1;36m12\u001b[0m-\u001b[1;36m28\u001b[0m \u001b[1;92m14:17:39\u001b[0m.\u001b[1;36m494603\u001b[0m   \n",
       "\u001b[1;36m1\u001b[0m \u001b[1;36m2022\u001b[0m-\u001b[1;36m12\u001b[0m-\u001b[1;36m28\u001b[0m \u001b[1;92m09:59:39\u001b[0m.\u001b[1;36m464488\u001b[0m \u001b[1;36m2022\u001b[0m-\u001b[1;36m12\u001b[0m-\u001b[1;36m28\u001b[0m \u001b[1;92m10:00:52\u001b[0m.\u001b[1;36m750547\u001b[0m   \n",
       "\u001b[1;36m2\u001b[0m \u001b[1;36m2022\u001b[0m-\u001b[1;36m12\u001b[0m-\u001b[1;36m28\u001b[0m \u001b[1;92m09:50:01\u001b[0m.\u001b[1;36m664353\u001b[0m \u001b[1;36m2022\u001b[0m-\u001b[1;36m12\u001b[0m-\u001b[1;36m28\u001b[0m \u001b[1;92m09:50:09\u001b[0m.\u001b[1;36m535134\u001b[0m   \n",
       "\u001b[1;36m3\u001b[0m \u001b[1;36m2022\u001b[0m-\u001b[1;36m12\u001b[0m-\u001b[1;36m28\u001b[0m \u001b[1;92m00:23:22\u001b[0m.\u001b[1;36m057765\u001b[0m \u001b[1;36m2022\u001b[0m-\u001b[1;36m12\u001b[0m-\u001b[1;36m28\u001b[0m \u001b[1;92m00:26:36\u001b[0m.\u001b[1;36m682361\u001b[0m   \n",
       "\u001b[1;36m4\u001b[0m \u001b[1;36m2022\u001b[0m-\u001b[1;36m12\u001b[0m-\u001b[1;36m28\u001b[0m \u001b[1;92m18:41:13\u001b[0m.\u001b[1;36m998318\u001b[0m \u001b[1;36m2022\u001b[0m-\u001b[1;36m12\u001b[0m-\u001b[1;36m28\u001b[0m \u001b[1;92m18:42:26\u001b[0m.\u001b[1;36m189956\u001b[0m   \n",
       "\n",
       "                                AgentId         CallId CallType CallDirection  \\\n",
       "\u001b[1;36m0\u001b[0m  \u001b[93m5d5d6d09-8db0-4de8-8566-217e8c051f1f\u001b[0m  sdv-pii-fuuqs    agent       inbound   \n",
       "\u001b[1;36m1\u001b[0m  \u001b[93m60fb1f33-609f-49a6-b53a-3fc95a119e10\u001b[0m  sdv-pii-seo6u    agent       inbound   \n",
       "\u001b[1;36m2\u001b[0m  \u001b[93m837e6b57-1de9-4f48-ae24-649a79c87033\u001b[0m  sdv-pii-eco6s    agent       inbound   \n",
       "\u001b[1;36m3\u001b[0m  \u001b[93m5be51088-ef6a-4afa-bbd6-3dda28d0ddf6\u001b[0m  sdv-pii-8m3aj    agent       inbound   \n",
       "\u001b[1;36m4\u001b[0m  \u001b[93m415aea5e-d6e2-43ee-bf49-09e787a19212\u001b[0m  sdv-pii-xn3y3     user       inbound   \n",
       "\n",
       "                                           QueueName  \n",
       "\u001b[1;36m0\u001b[0m  f1bc70f26a24de569b9c9b32c38e45f2144e4326a047aa\u001b[33m...\u001b[0m  \n",
       "\u001b[1;36m1\u001b[0m  1bad6b8cf97131fceab8543e81f7757195fbb1d36b376e\u001b[33m...\u001b[0m  \n",
       "\u001b[1;36m2\u001b[0m  880c14638d515f61e00c6ddef2234db8beb8287722cb7e\u001b[33m...\u001b[0m  \n",
       "\u001b[1;36m3\u001b[0m  c17033805438f07b2509ffbf5e8f35e24f8aafff5bee2c\u001b[33m...\u001b[0m  \n",
       "\u001b[1;36m4\u001b[0m  880c14638d515f61e00c6ddef2234db8beb8287722cb7e\u001b[33m...\u001b[0m  "
      ]
     },
     "execution_count": 22,
     "metadata": {},
     "output_type": "execute_result"
    }
   ],
   "source": [
    "assistance_train_dataset_2.head()"
   ]
  },
  {
   "cell_type": "code",
   "execution_count": 27,
   "id": "9c97076f-376b-4315-b4f3-1bfac664b7f3",
   "metadata": {},
   "outputs": [],
   "source": [
    "df = pd.concat(\n",
    "    [\n",
    "        assistance_train_dataset_1,\n",
    "        assistance_train_dataset_2,\n",
    "        assistance_train_dataset_3\n",
    "    ],\n",
    "    ignore_index=True\n",
    ")"
   ]
  },
  {
   "cell_type": "code",
   "execution_count": 28,
   "id": "8e97a282-f7f6-4545-89b0-6e2f0bc6129d",
   "metadata": {},
   "outputs": [
    {
     "name": "stdout",
     "output_type": "stream",
     "text": [
      "<class 'pandas.core.frame.DataFrame'>\n",
      "RangeIndex: 2255345 entries, 0 to 2255344\n",
      "Data columns (total 7 columns):\n",
      " #   Column         Dtype         \n",
      "---  ------         -----         \n",
      " 0   EmitDate       datetime64[ns]\n",
      " 1   EmitEndDate    datetime64[ns]\n",
      " 2   AgentId        object        \n",
      " 3   CallId         object        \n",
      " 4   CallType       object        \n",
      " 5   CallDirection  object        \n",
      " 6   QueueName      object        \n",
      "dtypes: datetime64[ns](2), object(5)\n",
      "memory usage: 120.4+ MB\n"
     ]
    }
   ],
   "source": [
    "df.info()"
   ]
  },
  {
   "cell_type": "code",
   "execution_count": 31,
   "id": "47ce67ba-1758-4a07-9529-12d7627c0913",
   "metadata": {},
   "outputs": [
    {
     "data": {
      "text/html": [
       "<pre style=\"white-space:pre;overflow-x:auto;line-height:normal;font-family:Menlo,'DejaVu Sans Mono',consolas,'Courier New',monospace\"></pre>\n"
      ],
      "text/plain": []
     },
     "metadata": {},
     "output_type": "display_data"
    },
    {
     "data": {
      "text/plain": [
       "\n",
       "EmitDate             \u001b[1;36m0\u001b[0m\n",
       "EmitEndDate          \u001b[1;36m0\u001b[0m\n",
       "AgentId          \u001b[1;36m64234\u001b[0m\n",
       "CallId               \u001b[1;36m0\u001b[0m\n",
       "CallType             \u001b[1;36m0\u001b[0m\n",
       "CallDirection        \u001b[1;36m0\u001b[0m\n",
       "QueueName            \u001b[1;36m0\u001b[0m\n",
       "dtype: int64"
      ]
     },
     "execution_count": 31,
     "metadata": {},
     "output_type": "execute_result"
    }
   ],
   "source": [
    "df.isna().sum()"
   ]
  },
  {
   "cell_type": "code",
   "execution_count": 37,
   "id": "9f3b0c1a-dfc5-4a07-88c0-7117f7bda2e9",
   "metadata": {},
   "outputs": [
    {
     "data": {
      "text/html": [
       "<pre style=\"white-space:pre;overflow-x:auto;line-height:normal;font-family:Menlo,'DejaVu Sans Mono',consolas,'Courier New',monospace\"></pre>\n"
      ],
      "text/plain": []
     },
     "metadata": {},
     "output_type": "display_data"
    },
    {
     "data": {
      "text/html": [
       "<div>\n",
       "<style scoped>\n",
       "    .dataframe tbody tr th:only-of-type {\n",
       "        vertical-align: middle;\n",
       "    }\n",
       "\n",
       "    .dataframe tbody tr th {\n",
       "        vertical-align: top;\n",
       "    }\n",
       "\n",
       "    .dataframe thead th {\n",
       "        text-align: right;\n",
       "    }\n",
       "</style>\n",
       "<table border=\"1\" class=\"dataframe\">\n",
       "  <thead>\n",
       "    <tr style=\"text-align: right;\">\n",
       "      <th></th>\n",
       "      <th>EmitDate</th>\n",
       "      <th>EmitEndDate</th>\n",
       "      <th>AgentId</th>\n",
       "      <th>CallId</th>\n",
       "      <th>CallType</th>\n",
       "      <th>CallDirection</th>\n",
       "      <th>QueueName</th>\n",
       "      <th>Date</th>\n",
       "      <th>CallTime</th>\n",
       "    </tr>\n",
       "  </thead>\n",
       "  <tbody>\n",
       "    <tr>\n",
       "      <th>0</th>\n",
       "      <td>2022-10-17 22:42:45.402895</td>\n",
       "      <td>2022-10-17 22:43:23.068921</td>\n",
       "      <td>5d5d6d09-8db0-4de8-8566-217e8c051f1f</td>\n",
       "      <td>sdv-pii-ou5qk</td>\n",
       "      <td>agent</td>\n",
       "      <td>outbound</td>\n",
       "      <td>1bad6b8cf97131fceab8543e81f7757195fbb1d36b376e...</td>\n",
       "      <td>2022-10-17</td>\n",
       "      <td>37.666026</td>\n",
       "    </tr>\n",
       "    <tr>\n",
       "      <th>1</th>\n",
       "      <td>2022-10-17 09:26:54.496597</td>\n",
       "      <td>2022-10-17 09:28:40.030373</td>\n",
       "      <td>4af305c9-28b2-4e57-bb39-c1d65237b1f9</td>\n",
       "      <td>sdv-pii-w7g3n</td>\n",
       "      <td>agent</td>\n",
       "      <td>inbound</td>\n",
       "      <td>bd51723189625f90588e977b9fb05fdf12b1b81d668f64...</td>\n",
       "      <td>2022-10-17</td>\n",
       "      <td>105.533776</td>\n",
       "    </tr>\n",
       "    <tr>\n",
       "      <th>2</th>\n",
       "      <td>2022-10-17 16:39:17.991224</td>\n",
       "      <td>2022-10-17 16:40:01.372890</td>\n",
       "      <td>08ee38dc-7073-4d19-bcc2-81521a959d86</td>\n",
       "      <td>sdv-pii-k50zl</td>\n",
       "      <td>agent</td>\n",
       "      <td>inbound</td>\n",
       "      <td>880c14638d515f61e00c6ddef2234db8beb8287722cb7e...</td>\n",
       "      <td>2022-10-17</td>\n",
       "      <td>43.381666</td>\n",
       "    </tr>\n",
       "    <tr>\n",
       "      <th>3</th>\n",
       "      <td>2022-10-17 05:52:42.032933</td>\n",
       "      <td>2022-10-17 05:52:50.419619</td>\n",
       "      <td>316e461d-7dad-4b9d-a045-50e6a9986b0e</td>\n",
       "      <td>sdv-pii-k9z02</td>\n",
       "      <td>agent</td>\n",
       "      <td>inbound</td>\n",
       "      <td>f1bc70f26a24de569b9c9b32c38e45f2144e4326a047aa...</td>\n",
       "      <td>2022-10-17</td>\n",
       "      <td>8.386686</td>\n",
       "    </tr>\n",
       "    <tr>\n",
       "      <th>4</th>\n",
       "      <td>2022-10-17 03:03:40.880062</td>\n",
       "      <td>2022-10-17 03:04:22.863554</td>\n",
       "      <td>f23913a4-badc-4360-98e6-20dc6620b9e8</td>\n",
       "      <td>sdv-pii-qvh6y</td>\n",
       "      <td>agent</td>\n",
       "      <td>inbound</td>\n",
       "      <td>f1bc70f26a24de569b9c9b32c38e45f2144e4326a047aa...</td>\n",
       "      <td>2022-10-17</td>\n",
       "      <td>41.983492</td>\n",
       "    </tr>\n",
       "  </tbody>\n",
       "</table>\n",
       "</div>"
      ],
      "text/plain": [
       "\n",
       "                    EmitDate                EmitEndDate  \\\n",
       "\u001b[1;36m0\u001b[0m \u001b[1;36m2022\u001b[0m-\u001b[1;36m10\u001b[0m-\u001b[1;36m17\u001b[0m \u001b[1;92m22:42:45\u001b[0m.\u001b[1;36m402895\u001b[0m \u001b[1;36m2022\u001b[0m-\u001b[1;36m10\u001b[0m-\u001b[1;36m17\u001b[0m \u001b[1;92m22:43:23\u001b[0m.\u001b[1;36m068921\u001b[0m   \n",
       "\u001b[1;36m1\u001b[0m \u001b[1;36m2022\u001b[0m-\u001b[1;36m10\u001b[0m-\u001b[1;36m17\u001b[0m \u001b[1;92m09:26:54\u001b[0m.\u001b[1;36m496597\u001b[0m \u001b[1;36m2022\u001b[0m-\u001b[1;36m10\u001b[0m-\u001b[1;36m17\u001b[0m \u001b[1;92m09:28:40\u001b[0m.\u001b[1;36m030373\u001b[0m   \n",
       "\u001b[1;36m2\u001b[0m \u001b[1;36m2022\u001b[0m-\u001b[1;36m10\u001b[0m-\u001b[1;36m17\u001b[0m \u001b[1;92m16:39:17\u001b[0m.\u001b[1;36m991224\u001b[0m \u001b[1;36m2022\u001b[0m-\u001b[1;36m10\u001b[0m-\u001b[1;36m17\u001b[0m \u001b[1;92m16:40:01\u001b[0m.\u001b[1;36m372890\u001b[0m   \n",
       "\u001b[1;36m3\u001b[0m \u001b[1;36m2022\u001b[0m-\u001b[1;36m10\u001b[0m-\u001b[1;36m17\u001b[0m \u001b[1;92m05:52:42\u001b[0m.\u001b[1;36m032933\u001b[0m \u001b[1;36m2022\u001b[0m-\u001b[1;36m10\u001b[0m-\u001b[1;36m17\u001b[0m \u001b[1;92m05:52:50\u001b[0m.\u001b[1;36m419619\u001b[0m   \n",
       "\u001b[1;36m4\u001b[0m \u001b[1;36m2022\u001b[0m-\u001b[1;36m10\u001b[0m-\u001b[1;36m17\u001b[0m \u001b[1;92m03:03:40\u001b[0m.\u001b[1;36m880062\u001b[0m \u001b[1;36m2022\u001b[0m-\u001b[1;36m10\u001b[0m-\u001b[1;36m17\u001b[0m \u001b[1;92m03:04:22\u001b[0m.\u001b[1;36m863554\u001b[0m   \n",
       "\n",
       "                                AgentId         CallId CallType CallDirection  \\\n",
       "\u001b[1;36m0\u001b[0m  \u001b[93m5d5d6d09-8db0-4de8-8566-217e8c051f1f\u001b[0m  sdv-pii-ou5qk    agent      outbound   \n",
       "\u001b[1;36m1\u001b[0m  \u001b[93m4af305c9-28b2-4e57-bb39-c1d65237b1f9\u001b[0m  sdv-pii-w7g3n    agent       inbound   \n",
       "\u001b[1;36m2\u001b[0m  \u001b[93m08ee38dc-7073-4d19-bcc2-81521a959d86\u001b[0m  sdv-pii-k50zl    agent       inbound   \n",
       "\u001b[1;36m3\u001b[0m  \u001b[93m316e461d-7dad-4b9d-a045-50e6a9986b0e\u001b[0m  sdv-pii-k9z02    agent       inbound   \n",
       "\u001b[1;36m4\u001b[0m  \u001b[93mf23913a4-badc-4360-98e6-20dc6620b9e8\u001b[0m  sdv-pii-qvh6y    agent       inbound   \n",
       "\n",
       "                                           QueueName        Date    CallTime  \n",
       "\u001b[1;36m0\u001b[0m  1bad6b8cf97131fceab8543e81f7757195fbb1d36b376e\u001b[33m...\u001b[0m  \u001b[1;36m2022\u001b[0m-\u001b[1;36m10\u001b[0m-\u001b[1;36m17\u001b[0m   \u001b[1;36m37.666026\u001b[0m  \n",
       "\u001b[1;36m1\u001b[0m  bd51723189625f90588e977b9fb05fdf12b1b81d668f64\u001b[33m...\u001b[0m  \u001b[1;36m2022\u001b[0m-\u001b[1;36m10\u001b[0m-\u001b[1;36m17\u001b[0m  \u001b[1;36m105.533776\u001b[0m  \n",
       "\u001b[1;36m2\u001b[0m  880c14638d515f61e00c6ddef2234db8beb8287722cb7e\u001b[33m...\u001b[0m  \u001b[1;36m2022\u001b[0m-\u001b[1;36m10\u001b[0m-\u001b[1;36m17\u001b[0m   \u001b[1;36m43.381666\u001b[0m  \n",
       "\u001b[1;36m3\u001b[0m  f1bc70f26a24de569b9c9b32c38e45f2144e4326a047aa\u001b[33m...\u001b[0m  \u001b[1;36m2022\u001b[0m-\u001b[1;36m10\u001b[0m-\u001b[1;36m17\u001b[0m    \u001b[1;36m8.386686\u001b[0m  \n",
       "\u001b[1;36m4\u001b[0m  f1bc70f26a24de569b9c9b32c38e45f2144e4326a047aa\u001b[33m...\u001b[0m  \u001b[1;36m2022\u001b[0m-\u001b[1;36m10\u001b[0m-\u001b[1;36m17\u001b[0m   \u001b[1;36m41.983492\u001b[0m  "
      ]
     },
     "execution_count": 37,
     "metadata": {},
     "output_type": "execute_result"
    }
   ],
   "source": [
    "df[\"Date\"] = df[\"EmitDate\"].dt.date\n",
    "df[\"CallTime\"] = (df[\"EmitEndDate\"] - df[\"EmitDate\"]).dt.total_seconds()\n",
    "df.head()"
   ]
  },
  {
   "cell_type": "code",
   "execution_count": 45,
   "id": "7c3cb705-08a6-4259-8a14-0e3ac343dc72",
   "metadata": {},
   "outputs": [],
   "source": [
    "df_agg_calls = df.groupby(\"Date\")[\"EmitDate\"].count().reset_index().rename(columns={\"EmitDate\": \"Calls\"})\n",
    "df_agg_call_time = df.groupby(\"Date\")[\"CallTime\"].sum().reset_index()\n",
    "df_agg_call_type = pd.crosstab(df[\"Date\"], df[\"CallType\"]).reset_index()\n",
    "df_agg_call_direction = pd.crosstab(df[\"Date\"], df[\"CallDirection\"]).reset_index()\n",
    "\n",
    "df_agg_numerical = df_agg_calls.merge(df_agg_call_time, on=\"Date\")\n",
    "df_agg_categories = df_agg_call_type.merge(df_agg_call_direction, on=\"Date\")\n",
    "df_agg = df_agg_numerical.merge(df_agg_categories, on=\"Date\")"
   ]
  },
  {
   "cell_type": "code",
   "execution_count": 49,
   "id": "d6bf24f7-9652-4ea1-a8ac-e48c6e06b816",
   "metadata": {},
   "outputs": [
    {
     "data": {
      "text/html": [
       "<pre style=\"white-space:pre;overflow-x:auto;line-height:normal;font-family:Menlo,'DejaVu Sans Mono',consolas,'Courier New',monospace\"></pre>\n"
      ],
      "text/plain": []
     },
     "metadata": {},
     "output_type": "display_data"
    },
    {
     "data": {
      "text/html": [
       "<div>\n",
       "<style scoped>\n",
       "    .dataframe tbody tr th:only-of-type {\n",
       "        vertical-align: middle;\n",
       "    }\n",
       "\n",
       "    .dataframe tbody tr th {\n",
       "        vertical-align: top;\n",
       "    }\n",
       "\n",
       "    .dataframe thead th {\n",
       "        text-align: right;\n",
       "    }\n",
       "</style>\n",
       "<table border=\"1\" class=\"dataframe\">\n",
       "  <thead>\n",
       "    <tr style=\"text-align: right;\">\n",
       "      <th></th>\n",
       "      <th>Date</th>\n",
       "      <th>Calls</th>\n",
       "      <th>Calltime</th>\n",
       "      <th>Agent</th>\n",
       "      <th>External</th>\n",
       "      <th>User</th>\n",
       "      <th>Voicemail</th>\n",
       "      <th>Inbound</th>\n",
       "      <th>Outbound</th>\n",
       "    </tr>\n",
       "  </thead>\n",
       "  <tbody>\n",
       "    <tr>\n",
       "      <th>0</th>\n",
       "      <td>2022-03-06</td>\n",
       "      <td>1635</td>\n",
       "      <td>92003.041834</td>\n",
       "      <td>1434</td>\n",
       "      <td>45</td>\n",
       "      <td>150</td>\n",
       "      <td>6</td>\n",
       "      <td>1316</td>\n",
       "      <td>319</td>\n",
       "    </tr>\n",
       "    <tr>\n",
       "      <th>1</th>\n",
       "      <td>2022-03-07</td>\n",
       "      <td>4242</td>\n",
       "      <td>244089.809001</td>\n",
       "      <td>3736</td>\n",
       "      <td>113</td>\n",
       "      <td>387</td>\n",
       "      <td>6</td>\n",
       "      <td>3447</td>\n",
       "      <td>795</td>\n",
       "    </tr>\n",
       "    <tr>\n",
       "      <th>2</th>\n",
       "      <td>2022-03-08</td>\n",
       "      <td>4413</td>\n",
       "      <td>249329.408826</td>\n",
       "      <td>3856</td>\n",
       "      <td>120</td>\n",
       "      <td>426</td>\n",
       "      <td>11</td>\n",
       "      <td>3592</td>\n",
       "      <td>821</td>\n",
       "    </tr>\n",
       "    <tr>\n",
       "      <th>3</th>\n",
       "      <td>2022-03-09</td>\n",
       "      <td>4487</td>\n",
       "      <td>261058.142927</td>\n",
       "      <td>3940</td>\n",
       "      <td>132</td>\n",
       "      <td>407</td>\n",
       "      <td>8</td>\n",
       "      <td>3640</td>\n",
       "      <td>847</td>\n",
       "    </tr>\n",
       "    <tr>\n",
       "      <th>4</th>\n",
       "      <td>2022-03-10</td>\n",
       "      <td>3826</td>\n",
       "      <td>221972.967435</td>\n",
       "      <td>3344</td>\n",
       "      <td>116</td>\n",
       "      <td>362</td>\n",
       "      <td>4</td>\n",
       "      <td>3103</td>\n",
       "      <td>723</td>\n",
       "    </tr>\n",
       "  </tbody>\n",
       "</table>\n",
       "</div>"
      ],
      "text/plain": [
       "\n",
       "         Date  Calls       Calltime  Agent  External  User  Voicemail  \\\n",
       "\u001b[1;36m0\u001b[0m  \u001b[1;36m2022\u001b[0m-\u001b[1;36m03\u001b[0m-\u001b[1;36m06\u001b[0m   \u001b[1;36m1635\u001b[0m   \u001b[1;36m92003.041834\u001b[0m   \u001b[1;36m1434\u001b[0m        \u001b[1;36m45\u001b[0m   \u001b[1;36m150\u001b[0m          \u001b[1;36m6\u001b[0m   \n",
       "\u001b[1;36m1\u001b[0m  \u001b[1;36m2022\u001b[0m-\u001b[1;36m03\u001b[0m-\u001b[1;36m07\u001b[0m   \u001b[1;36m4242\u001b[0m  \u001b[1;36m244089.809001\u001b[0m   \u001b[1;36m3736\u001b[0m       \u001b[1;36m113\u001b[0m   \u001b[1;36m387\u001b[0m          \u001b[1;36m6\u001b[0m   \n",
       "\u001b[1;36m2\u001b[0m  \u001b[1;36m2022\u001b[0m-\u001b[1;36m03\u001b[0m-\u001b[1;36m08\u001b[0m   \u001b[1;36m4413\u001b[0m  \u001b[1;36m249329.408826\u001b[0m   \u001b[1;36m3856\u001b[0m       \u001b[1;36m120\u001b[0m   \u001b[1;36m426\u001b[0m         \u001b[1;36m11\u001b[0m   \n",
       "\u001b[1;36m3\u001b[0m  \u001b[1;36m2022\u001b[0m-\u001b[1;36m03\u001b[0m-\u001b[1;36m09\u001b[0m   \u001b[1;36m4487\u001b[0m  \u001b[1;36m261058.142927\u001b[0m   \u001b[1;36m3940\u001b[0m       \u001b[1;36m132\u001b[0m   \u001b[1;36m407\u001b[0m          \u001b[1;36m8\u001b[0m   \n",
       "\u001b[1;36m4\u001b[0m  \u001b[1;36m2022\u001b[0m-\u001b[1;36m03\u001b[0m-\u001b[1;36m10\u001b[0m   \u001b[1;36m3826\u001b[0m  \u001b[1;36m221972.967435\u001b[0m   \u001b[1;36m3344\u001b[0m       \u001b[1;36m116\u001b[0m   \u001b[1;36m362\u001b[0m          \u001b[1;36m4\u001b[0m   \n",
       "\n",
       "   Inbound  Outbound  \n",
       "\u001b[1;36m0\u001b[0m     \u001b[1;36m1316\u001b[0m       \u001b[1;36m319\u001b[0m  \n",
       "\u001b[1;36m1\u001b[0m     \u001b[1;36m3447\u001b[0m       \u001b[1;36m795\u001b[0m  \n",
       "\u001b[1;36m2\u001b[0m     \u001b[1;36m3592\u001b[0m       \u001b[1;36m821\u001b[0m  \n",
       "\u001b[1;36m3\u001b[0m     \u001b[1;36m3640\u001b[0m       \u001b[1;36m847\u001b[0m  \n",
       "\u001b[1;36m4\u001b[0m     \u001b[1;36m3103\u001b[0m       \u001b[1;36m723\u001b[0m  "
      ]
     },
     "execution_count": 49,
     "metadata": {},
     "output_type": "execute_result"
    }
   ],
   "source": [
    "df_agg.columns = [col.capitalize() for col in df_agg.columns]\n",
    "df_agg.head()"
   ]
  },
  {
   "cell_type": "code",
   "execution_count": 51,
   "id": "6d54c3d9-c9af-48db-ad51-bc0a064d3ad7",
   "metadata": {},
   "outputs": [
    {
     "data": {
      "text/html": [
       "<pre style=\"white-space:pre;overflow-x:auto;line-height:normal;font-family:Menlo,'DejaVu Sans Mono',consolas,'Courier New',monospace\"></pre>\n"
      ],
      "text/plain": []
     },
     "metadata": {},
     "output_type": "display_data"
    },
    {
     "data": {
      "image/png": "[encoded data removed]",
      "text/plain": [
       "\u001b[1m<\u001b[0m\u001b[1;95mFigure\u001b[0m\u001b[39m size 64\u001b[0m\u001b[1;36m0x480\u001b[0m\u001b[39m with \u001b[0m\u001b[1;36m1\u001b[0m\u001b[39m Axes\u001b[0m\u001b[1m>\u001b[0m"
      ]
     },
     "metadata": {},
     "output_type": "display_data"
    }
   ],
   "source": [
    "import matplotlib.pyplot as plt\n",
    "\n",
    "plt.plot(df_agg[\"Date\"], df_agg[\"Calls\"]);"
   ]
  }
 ],
 "metadata": {
  "kernelspec": {
   "display_name": "Python 3 (ipykernel)",
   "language": "python",
   "name": "python3"
  },
  "language_info": {
   "codemirror_mode": {
    "name": "ipython",
    "version": 3
   },
   "file_extension": ".py",
   "mimetype": "text/x-python",
   "name": "python",
   "nbconvert_exporter": "python",
   "pygments_lexer": "ipython3",
   "version": "3.12.3"
  },
  "widgets": {
   "application/vnd.jupyter.widget-state+json": {
    "state": {},
    "version_major": 2,
    "version_minor": 0
   }
  }
 },
 "nbformat": 4,
 "nbformat_minor": 5
}
